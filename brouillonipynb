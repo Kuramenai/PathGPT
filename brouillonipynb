{
 "cells": [
  {
   "cell_type": "code",
   "execution_count": 2,
   "id": "0147d284-c336-48f8-a73a-1bf6616fdae8",
   "metadata": {},
   "outputs": [],
   "source": [
    "import torch\n",
    "import pickle"
   ]
  },
  {
   "cell_type": "code",
   "execution_count": 3,
   "id": "a006d0f6-edbf-4342-aa49-e139042a958b",
   "metadata": {},
   "outputs": [],
   "source": [
    "data_path = \"train_data/beijing_data\"\n",
    "f = open(data_path, 'rb')\n",
    "data = pickle.load(f)\n",
    "f.close()\n"
   ]
  },
  {
   "cell_type": "code",
   "execution_count": 4,
   "id": "d30e917b-b552-4d8f-a31a-40730e91225a",
   "metadata": {},
   "outputs": [
    {
     "data": {
      "text/plain": [
       "36411"
      ]
     },
     "execution_count": 4,
     "metadata": {},
     "output_type": "execute_result"
    }
   ],
   "source": [
    "len(data)"
   ]
  },
  {
   "cell_type": "code",
   "execution_count": 6,
   "id": "d78c7611-4566-4c60-9f60-892bbf142ce3",
   "metadata": {},
   "outputs": [
    {
     "name": "stdout",
     "output_type": "stream",
     "text": [
      "Hello\n",
      "World\n"
     ]
    }
   ],
   "source": [
    "text = f\"Hello\\n\\\n",
    "World\"\n",
    "print(text)"
   ]
  },
  {
   "cell_type": "code",
   "execution_count": 8,
   "id": "23e216da-d0e8-4aa9-be7f-8234f5fc479a",
   "metadata": {},
   "outputs": [
    {
     "name": "stdout",
     "output_type": "stream",
     "text": [
      "Folder text_docs/{place_name}_paths.txt created!\n"
     ]
    }
   ],
   "source": [
    "from utils import make_dir\n",
    "text_file = 'text_docs/{place_name}_paths.txt'\n",
    "make_dir('text_docs/{place_name}_paths.txt')"
   ]
  },
  {
   "cell_type": "code",
   "execution_count": null,
   "id": "ae565a02-17c5-45e5-820a-24989dfaec58",
   "metadata": {},
   "outputs": [],
   "source": []
  }
 ],
 "metadata": {
  "kernelspec": {
   "display_name": "pathgpt",
   "language": "python",
   "name": "pathgpt"
  },
  "language_info": {
   "codemirror_mode": {
    "name": "ipython",
    "version": 3
   },
   "file_extension": ".py",
   "mimetype": "text/x-python",
   "name": "python",
   "nbconvert_exporter": "python",
   "pygments_lexer": "ipython3",
   "version": "3.10.16"
  }
 },
 "nbformat": 4,
 "nbformat_minor": 5
}
